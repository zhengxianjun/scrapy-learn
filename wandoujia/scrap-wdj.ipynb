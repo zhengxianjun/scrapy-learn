{
 "cells": [
  {
   "cell_type": "code",
   "execution_count": 62,
   "metadata": {},
   "outputs": [],
   "source": [
    "import bs4\n",
    "import requests\n",
    "import pandas as pd"
   ]
  },
  {
   "cell_type": "code",
   "execution_count": 63,
   "metadata": {},
   "outputs": [],
   "source": [
    "headers = {'User-Agent':'Mozilla/5.0 (Windows NT 6.1; WOW64) AppleWebKit/537.36 (KHTML, like Gecko) Chrome/61.0.3163.79 Safari/537.36'}\n",
    "url = r'http://www.wandoujia.com/apps/com.kugou.android'"
   ]
  },
  {
   "cell_type": "code",
   "execution_count": 64,
   "metadata": {},
   "outputs": [],
   "source": [
    "res = requests.get(url,headers=headers).text"
   ]
  },
  {
   "cell_type": "code",
   "execution_count": 65,
   "metadata": {},
   "outputs": [],
   "source": [
    "soup = bs4.BeautifulSoup(res,'html.parser')"
   ]
  },
  {
   "cell_type": "code",
   "execution_count": 66,
   "metadata": {},
   "outputs": [
    {
     "data": {
      "text/plain": [
       "['酷狗音乐']"
      ]
     },
     "execution_count": 66,
     "metadata": {},
     "output_type": "execute_result"
    }
   ],
   "source": [
    "appname = []\n",
    "appname.append(soup.find('p',{'class':'app-name'}).find('span').text.strip())\n",
    "appname"
   ]
  },
  {
   "cell_type": "code",
   "execution_count": 67,
   "metadata": {},
   "outputs": [
    {
     "data": {
      "text/plain": [
       "['9.3亿']"
      ]
     },
     "execution_count": 67,
     "metadata": {},
     "output_type": "execute_result"
    }
   ],
   "source": [
    "install = []\n",
    "install.append(soup.find('span',{'class':'item install'}).find('i').text.strip())\n",
    "install"
   ]
  },
  {
   "cell_type": "code",
   "execution_count": 68,
   "metadata": {},
   "outputs": [
    {
     "data": {
      "text/plain": [
       "['61.00%']"
      ]
     },
     "execution_count": 68,
     "metadata": {},
     "output_type": "execute_result"
    }
   ],
   "source": [
    "love = []\n",
    "love.append(soup.find('span',{'class':'item love'}).find('i').text.strip())\n",
    "love"
   ]
  },
  {
   "cell_type": "code",
   "execution_count": 69,
   "metadata": {},
   "outputs": [
    {
     "data": {
      "text/plain": [
       "['9079']"
      ]
     },
     "execution_count": 69,
     "metadata": {},
     "output_type": "execute_result"
    }
   ],
   "source": [
    "comments = []\n",
    "comments.append(soup.find('div',{'class':'comment-area'}).find('i').text.strip())\n",
    "comments"
   ]
  },
  {
   "cell_type": "code",
   "execution_count": 70,
   "metadata": {},
   "outputs": [],
   "source": [
    "size=[]\n",
    "category=[]\n",
    "tags=[]\n",
    "update=[]\n",
    "version=[]\n",
    "platform=[]\n",
    "company=[]"
   ]
  },
  {
   "cell_type": "code",
   "execution_count": 71,
   "metadata": {},
   "outputs": [
    {
     "data": {
      "text/plain": [
       "<dl class=\"infos-list\">\n",
       "<dt>大小</dt>\n",
       "<dd>\n",
       "                                    43.39MB\n",
       "                                    <meta content=\"43.39MB\" itemprop=\"fileSize\">\n",
       "</meta></dd>\n",
       "<dt>分类</dt>\n",
       "<dd class=\"tag-box\">\n",
       "<a data-track=\"detail-click-appTag\" href=\"http://www.wandoujia.com/category/5029?pos=w/tags/detail_com.kugou.android\" itemprop=\"SoftwareApplicationCategory\">影音播放</a>\n",
       "<a data-track=\"detail-click-appTag\" href=\"http://www.wandoujia.com/category/5029_722?pos=w/tags/detail_com.kugou.android\" itemprop=\"SoftwareApplicationCategory\">音乐</a>\n",
       "</dd>\n",
       "<dt>TAG</dt>\n",
       "<dd>\n",
       "<div class=\"side-tags clearfix\">\n",
       "<div class=\"tag-box\">\n",
       "<a href=\"http://www.wandoujia.com/tag/2\">\n",
       "                                                        \n",
       "                                                            休闲\n",
       "                                                        \n",
       "                                                    </a>\n",
       "</div>\n",
       "<div class=\"tag-box\">\n",
       "<a href=\"http://www.wandoujia.com/tag/142\">\n",
       "                                                        \n",
       "                                                            节奏\n",
       "                                                        \n",
       "                                                    </a>\n",
       "</div>\n",
       "<div class=\"tag-box\">\n",
       "<a href=\"http://www.wandoujia.com/tag/11720\">\n",
       "                                                        \n",
       "                                                            音乐\n",
       "                                                        \n",
       "                                                    </a>\n",
       "</div>\n",
       "<div class=\"tag-box\">\n",
       "<a href=\"http://www.wandoujia.com/tag/412\">\n",
       "                                                        \n",
       "                                                            音乐游戏\n",
       "                                                        \n",
       "                                                    </a>\n",
       "</div>\n",
       "<div class=\"tag-box\">\n",
       "<a href=\"http://www.wandoujia.com/tag/658\">\n",
       "                                                        \n",
       "                                                            必备软件\n",
       "                                                        \n",
       "                                                    </a>\n",
       "</div>\n",
       "<div class=\"tag-box\">\n",
       "<a href=\"http://www.wandoujia.com/tag/11804\">\n",
       "                                                        \n",
       "                                                            直播\n",
       "                                                        \n",
       "                                                    </a>\n",
       "</div>\n",
       "<div class=\"tag-box\">\n",
       "<a href=\"http://www.wandoujia.com/tag/1274\">\n",
       "                                                        \n",
       "                                                            乐曲\n",
       "                                                        \n",
       "                                                    </a>\n",
       "</div>\n",
       "<div class=\"tag-box\">\n",
       "<a href=\"http://www.wandoujia.com/tag/11722\">\n",
       "                                                        \n",
       "                                                            音乐电台\n",
       "                                                        \n",
       "                                                    </a>\n",
       "</div>\n",
       "</div>\n",
       "</dd>\n",
       "<dt>更新</dt>\n",
       "<dd><time datetime=\"2017年09月26日\" id=\"baidu_time\" itemprop=\"datePublished\">2017年09月26日</time></dd>\n",
       "<dt>版本</dt>\n",
       "<dd> 8.9.0</dd>\n",
       "<dt>要求</dt>\n",
       "<dd class=\"perms\" content=\"Android\" itemprop=\"operatingSystems\">\n",
       "                                    Android 4.0.2 以上\n",
       "                                    <div>\n",
       "<a class=\"view-perms\" href=\"javascript:;\" id=\"j-view-perms\" rel=\"nofollow\">查看权限要求<i class=\"arrow-down\"></i></a>\n",
       "<ul class=\"perms-list\" id=\"j-perms-list\" style=\"display:none\">\n",
       "<li><span class=\"perms\" itemprop=\"permissions\">读取短信或彩信</span></li>\n",
       "</ul>\n",
       "</div>\n",
       "</dd>\n",
       "<dt>来自</dt>\n",
       "<dd>\n",
       "<span class=\"dev-sites\" itemprop=\"name\">广州酷狗计算机科技有限公司</span>\n",
       "</dd>\n",
       "</dl>"
      ]
     },
     "execution_count": 71,
     "metadata": {},
     "output_type": "execute_result"
    }
   ],
   "source": [
    "soup_infos_list = soup.find('dl',{'class':'infos-list'})\n",
    "soup_infos_list"
   ]
  },
  {
   "cell_type": "code",
   "execution_count": 72,
   "metadata": {},
   "outputs": [
    {
     "data": {
      "text/plain": [
       "['43.39MB']"
      ]
     },
     "execution_count": 72,
     "metadata": {},
     "output_type": "execute_result"
    }
   ],
   "source": [
    "size.append(soup_infos_list.findAll('dd')[0].text.strip())\n",
    "size"
   ]
  },
  {
   "cell_type": "code",
   "execution_count": 73,
   "metadata": {},
   "outputs": [
    {
     "data": {
      "text/plain": [
       "['影音播放,音乐']"
      ]
     },
     "execution_count": 73,
     "metadata": {},
     "output_type": "execute_result"
    }
   ],
   "source": [
    "caterory =[]\n",
    "category.append(','.join(soup_infos_list.findAll('dd')[1].text.strip().split('\\n')))\n",
    "category"
   ]
  },
  {
   "cell_type": "code",
   "execution_count": 74,
   "metadata": {},
   "outputs": [
    {
     "name": "stdout",
     "output_type": "stream",
     "text": [
      "休闲\n",
      "节奏\n",
      "音乐\n",
      "音乐游戏\n",
      "必备软件\n",
      "直播\n",
      "乐曲\n",
      "音乐电台\n"
     ]
    }
   ],
   "source": [
    "for i in soup_infos_list.findAll('dd')[2].findAll('a'):\n",
    "    print(i.text.strip())"
   ]
  },
  {
   "cell_type": "code",
   "execution_count": 75,
   "metadata": {},
   "outputs": [
    {
     "data": {
      "text/plain": [
       "['休闲', '节奏', '音乐', '音乐游戏', '必备软件', '直播', '乐曲', '音乐电台']"
      ]
     },
     "execution_count": 75,
     "metadata": {},
     "output_type": "execute_result"
    }
   ],
   "source": [
    "tags =[]\n",
    "tags.extend([i.text.strip() for i in soup_infos_list.findAll('dd')[2].findAll('a')])\n",
    "tags"
   ]
  },
  {
   "cell_type": "code",
   "execution_count": 76,
   "metadata": {},
   "outputs": [
    {
     "data": {
      "text/plain": [
       "['2017年09月26日']"
      ]
     },
     "execution_count": 76,
     "metadata": {},
     "output_type": "execute_result"
    }
   ],
   "source": [
    "update=[]\n",
    "update.append(soup_infos_list.findAll('dd')[3].text.strip())\n",
    "update"
   ]
  },
  {
   "cell_type": "code",
   "execution_count": 77,
   "metadata": {},
   "outputs": [
    {
     "data": {
      "text/plain": [
       "['8.9.0']"
      ]
     },
     "execution_count": 77,
     "metadata": {},
     "output_type": "execute_result"
    }
   ],
   "source": [
    "version=[]\n",
    "version.append(soup_infos_list.findAll('dd')[4].text.strip())\n",
    "version"
   ]
  },
  {
   "cell_type": "code",
   "execution_count": 78,
   "metadata": {},
   "outputs": [
    {
     "data": {
      "text/plain": [
       "['Android 4.0.2 以上']"
      ]
     },
     "execution_count": 78,
     "metadata": {},
     "output_type": "execute_result"
    }
   ],
   "source": [
    "platform=[]\n",
    "platform.append(soup_infos_list.findAll('dd',{'content':'Android'})[0].text.strip().split('\\n')[0])\n",
    "platform"
   ]
  },
  {
   "cell_type": "code",
   "execution_count": 79,
   "metadata": {},
   "outputs": [
    {
     "data": {
      "text/plain": [
       "['广州酷狗计算机科技有限公司']"
      ]
     },
     "execution_count": 79,
     "metadata": {},
     "output_type": "execute_result"
    }
   ],
   "source": [
    "company=[]\n",
    "company.append(soup_infos_list.findAll('dd')[6].text.strip())\n",
    "company"
   ]
  },
  {
   "cell_type": "code",
   "execution_count": 81,
   "metadata": {},
   "outputs": [],
   "source": [
    "apps = pd.DataFrame({\n",
    "    'appname':appname,\n",
    "    'category':category,\n",
    "    'install':install,\n",
    "    'love':love,\n",
    "    'comments':comments,\n",
    "    'size':size,\n",
    "    'update':update,\n",
    "    'version':version,\n",
    "    'platform':platform,\n",
    "    'company':company\n",
    "})"
   ]
  },
  {
   "cell_type": "code",
   "execution_count": 83,
   "metadata": {},
   "outputs": [
    {
     "data": {
      "text/html": [
       "<div>\n",
       "<style>\n",
       "    .dataframe thead tr:only-child th {\n",
       "        text-align: right;\n",
       "    }\n",
       "\n",
       "    .dataframe thead th {\n",
       "        text-align: left;\n",
       "    }\n",
       "\n",
       "    .dataframe tbody tr th {\n",
       "        vertical-align: top;\n",
       "    }\n",
       "</style>\n",
       "<table border=\"1\" class=\"dataframe\">\n",
       "  <thead>\n",
       "    <tr style=\"text-align: right;\">\n",
       "      <th></th>\n",
       "      <th>appname</th>\n",
       "      <th>category</th>\n",
       "      <th>comments</th>\n",
       "      <th>company</th>\n",
       "      <th>install</th>\n",
       "      <th>love</th>\n",
       "      <th>platform</th>\n",
       "      <th>size</th>\n",
       "      <th>update</th>\n",
       "      <th>version</th>\n",
       "    </tr>\n",
       "  </thead>\n",
       "  <tbody>\n",
       "    <tr>\n",
       "      <th>0</th>\n",
       "      <td>酷狗音乐</td>\n",
       "      <td>影音播放,音乐</td>\n",
       "      <td>9079</td>\n",
       "      <td>广州酷狗计算机科技有限公司</td>\n",
       "      <td>9.3亿</td>\n",
       "      <td>61.00%</td>\n",
       "      <td>Android 4.0.2 以上</td>\n",
       "      <td>43.39MB</td>\n",
       "      <td>2017年09月26日</td>\n",
       "      <td>8.9.0</td>\n",
       "    </tr>\n",
       "  </tbody>\n",
       "</table>\n",
       "</div>"
      ],
      "text/plain": [
       "  appname category comments        company install    love          platform  \\\n",
       "0    酷狗音乐  影音播放,音乐     9079  广州酷狗计算机科技有限公司    9.3亿  61.00%  Android 4.0.2 以上   \n",
       "\n",
       "      size       update version  \n",
       "0  43.39MB  2017年09月26日   8.9.0  "
      ]
     },
     "execution_count": 83,
     "metadata": {},
     "output_type": "execute_result"
    }
   ],
   "source": [
    "apps"
   ]
  },
  {
   "cell_type": "code",
   "execution_count": null,
   "metadata": {},
   "outputs": [],
   "source": []
  }
 ],
 "metadata": {
  "kernelspec": {
   "display_name": "Python 3",
   "language": "python",
   "name": "python3"
  },
  "language_info": {
   "codemirror_mode": {
    "name": "ipython",
    "version": 3
   },
   "file_extension": ".py",
   "mimetype": "text/x-python",
   "name": "python",
   "nbconvert_exporter": "python",
   "pygments_lexer": "ipython3",
   "version": "3.5.2"
  }
 },
 "nbformat": 4,
 "nbformat_minor": 2
}
